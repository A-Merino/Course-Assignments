{
 "cells": [
  {
   "cell_type": "markdown",
   "id": "6546cbc0",
   "metadata": {},
   "source": [
    "# CSE 2050 Homework 2"
   ]
  },
  {
   "cell_type": "markdown",
   "id": "dbbd3139",
   "metadata": {},
   "source": [
    "**Name: Alex Merino** | Topic: Python Programming with Functions"
   ]
  },
  {
   "cell_type": "markdown",
   "id": "be2a63eb",
   "metadata": {},
   "source": [
    "## Solution"
   ]
  },
  {
   "cell_type": "code",
   "execution_count": 9,
   "id": "872f78b3",
   "metadata": {},
   "outputs": [
    {
     "data": {
      "text/html": [
       "<style>.container { width:100% !important; }</style>"
      ],
      "text/plain": [
       "<IPython.core.display.HTML object>"
      ]
     },
     "metadata": {},
     "output_type": "display_data"
    }
   ],
   "source": [
    "from IPython.display import display, HTML\n",
    "display(HTML(\"<style>.container { width:100% !important; }</style>\"))"
   ]
  },
  {
   "cell_type": "code",
   "execution_count": 1,
   "id": "2a0f250f",
   "metadata": {},
   "outputs": [],
   "source": [
    "# importing packages\n",
    "from lxml import html\n",
    "import requests\n",
    "import dateparser as dparse"
   ]
  },
  {
   "cell_type": "markdown",
   "id": "add14969",
   "metadata": {},
   "source": [
    "### get_date()\n",
    "The get_date function grabs the date and time the speech occurred from a specifc paragraph tag from the web page\n",
    "    It first grabs the specific tag then the 'content' attribute from that tag\n",
    "    The format of the time is '1793-12-03T00:00:00+00:00' which is then split by the T charachter\n",
    "    Using the first half, it is inputed into a datetime object with dates before 1900 being slightly modified to fit dateparser standards\n",
    "    The date and time is then formatted to the instructions and returned"
   ]
  },
  {
   "cell_type": "code",
   "execution_count": 2,
   "id": "32dc2e3e",
   "metadata": {
    "scrolled": true
   },
   "outputs": [],
   "source": [
    "def get_date(page):\n",
    "    date_span = page.cssselect('[class=\"date-display-single\"]')\n",
    "    span_content =  date_span[0].get('content')\n",
    "    date, hours = span_content.split(\"T\")\n",
    "    full_time = hours.split(\"+\")\n",
    "    time = full_time[0]\n",
    "    \n",
    "    if date.find(\"179\") >= 0:\n",
    "        date = date.replace(\"17\", \"19\")\n",
    "        \n",
    "    parsed_date = dparse.parse(date)\n",
    "    parsed_time = dparse.parse(time)\n",
    "    total = dparse.parse(span_content)\n",
    "    date_format = \"%m/%d/%y\"\n",
    "    time_format = \"%I:%M %p\"\n",
    "\n",
    "    return \" \".join((parsed_date.strftime(date_format), parsed_time.strftime(time_format)))"
   ]
  },
  {
   "cell_type": "markdown",
   "id": "aa304517",
   "metadata": {},
   "source": [
    "### get_speech\n",
    "The function grabs the speech from the inputted url which is given as a parameter\n",
    "    It first uses lxml to grab and format the source code\n",
    "    Then inside the div tag that is holding the speech, we grab each paragraph tag\n",
    "    Then getting the text from the tag we append it to a list and return the joined list as a string "
   ]
  },
  {
   "cell_type": "code",
   "execution_count": 3,
   "id": "2cdc6b84",
   "metadata": {},
   "outputs": [],
   "source": [
    "def get_speech(url):\n",
    "    speech_code = get_html(url)\n",
    "    html_el = html.document_fromstring(speech_code)\n",
    "\n",
    "    div = html_el.cssselect('[class=\"field-docs-content\"]')\n",
    "    paragraphs = div[0].cssselect(\"p\")\n",
    "    speech = []\n",
    "\n",
    "    for paragraph in paragraphs:\n",
    "        speech.append(paragraph.text_content().strip())\n",
    "\n",
    "\n",
    "    return (\" \".join(speech), get_date(html_el))"
   ]
  },
  {
   "cell_type": "markdown",
   "id": "5edf1dee",
   "metadata": {},
   "source": [
    "### get_html(), get_data_table(), scrape_data()\n",
    "Functions given by Dr. Fitz to help start the web scraping process\n",
    "    The get_data_table was slightly changed to get the functionality that was needed for the problem\n",
    "        Instead of grabbing every speech from every president it was changed to grab the first speech from the last term of each president\n",
    "        "
   ]
  },
  {
   "cell_type": "code",
   "execution_count": 4,
   "id": "69ee49eb",
   "metadata": {},
   "outputs": [],
   "source": [
    "def get_html(url):\n",
    "    \"\"\"\n",
    "    This function extracts the html code from a url\n",
    "    :param url: \n",
    "    :return: html code from the web page referenced by url\n",
    "    \"\"\"\n",
    "    response = requests.get(url)  # get page data from server, block redirects\n",
    "    source_code = response.content  # get string of source code from response\n",
    "    return source_code\n",
    "\n",
    "\n",
    "def get_data_table(source_code):\n",
    "    \"\"\"\n",
    "    This function creates a 2-D list of the following fields:\n",
    "    [president_name, tenure, speech_date, speech]\n",
    "    The speech_date and speech are currently left blank.\n",
    "    :param source_code: the html source code extracted from a url\n",
    "    :return: a 2-D Python list or table\n",
    "    \"\"\"\n",
    "    data_table = []\n",
    "    speech_table = None\n",
    "    trs = None\n",
    "    html_elem = html.document_fromstring(source_code)  # make HTML element object\n",
    "    tables = html_elem.cssselect(\"table\") # select the table element on the page\n",
    "\n",
    "    # if you find a table, initialize the speech table to the first table\n",
    "    if len(tables) > 0:\n",
    "        speech_table = tables[0]\n",
    "\n",
    "    # if you find the speech table, select its rows\n",
    "    if speech_table is not None:\n",
    "        trs = speech_table.cssselect(\"tr\")\n",
    "\n",
    "    # If you find rows in the table, go through each row\n",
    "    # and process the data. Skip the header row (start at row 1)\n",
    "    if trs is not None:\n",
    "        president_name = \"\"\n",
    "        \n",
    "        for i in range(1, len(trs)):\n",
    "            tr = trs[i]\n",
    "            tds = tr.cssselect(\"td\")\n",
    "\n",
    "            # simple check to make sure the row has president name and speech url\n",
    "            if len(tds) == 12:\n",
    "                first_cell_data = tds[0].text_content().strip()\n",
    "                tenure = tds[1].text_content().strip()\n",
    "                \n",
    "                # get the link element for the link to the speech\n",
    "                if tds[2] is not None:\n",
    "                    speech_link_elmnt = tds[2].cssselect(\"a\")\n",
    "                    speech_date = \"\"\n",
    "                    speech = \"\"\n",
    "\n",
    "                    if len(first_cell_data) > 0:\n",
    "                        president_name = first_cell_data\n",
    "\n",
    "                        if len(speech_link_elmnt) > 0:\n",
    "                            speech_link = speech_link_elmnt[0].get(\"href\")\n",
    "\n",
    "                            if len(president_name) > 0 and len(speech_link) > 0 and \"#\" not in speech_link: # valid links should not link to an object on the page::\n",
    "                                # Write the function get_speech(speech_link) to extract the speech and \n",
    "                                # speech_date from the speech_link\n",
    "                                speech, speech_date = get_speech(speech_link)\n",
    "                                data_table.append([president_name, tenure, speech_date, speech])\n",
    "    return data_table\n",
    "\n",
    "\n",
    "def scrape_data(url):\n",
    "    \"\"\"\n",
    "    :param url: the url to \n",
    "    :return: \n",
    "    \"\"\"\n",
    "    return get_data_table(get_html(url))"
   ]
  },
  {
   "cell_type": "markdown",
   "id": "1d61618d",
   "metadata": {},
   "source": [
    "### count_sentences\n",
    "This function counts the amount of sentences in the speech\n",
    "    It uses a string of all punctuation to check against\n",
    "    the for loop goes through each character and compares it to the punctuation and adds one to the count variable if one matches\n",
    "\n",
    "### count_words\n",
    "This function counts the words in the speech by spliting the speech by the space character and returning the legth of the list obtained\n",
    "\n",
    "### count_syllables\n",
    "This function counts the ammount of syllables in the speech\n",
    "    There are two strings to compare to, the vowels and the punctuation\n",
    "    There are also two strings that collect the character before the current one and the character after the current one\n",
    "    While going through each character of the speech\n",
    "        Check if it is an 'e' and if the next charater denotes the end of a word, then subtract from count\n",
    "        Check if it is a vowel and the character before isnt a vowel, then add to the count\n",
    "        Check if it is an 's' or 'd' and if the prev letter is an 'e' and if the next letter is the end of a word, then subtract one from count\n",
    "        returns count"
   ]
  },
  {
   "cell_type": "code",
   "execution_count": 5,
   "id": "f9d3b629",
   "metadata": {},
   "outputs": [],
   "source": [
    "def count_sentences(speech):\n",
    "    punct = \".?!;:\"\n",
    "    count = 0\n",
    "    for x in range(len(speech)):\n",
    "        if punct.find(speech[x]) > -1:\n",
    "            count = count + 1\n",
    "    return count\n",
    "\n",
    "\n",
    "def count_words(speech):\n",
    "    return len(speech.split(\" \"))\n",
    "\n",
    "\n",
    "def count_syllables(speech):\n",
    "    vowels = \"aeiou\"\n",
    "    punct = \".?!;: \"\n",
    "    last_char = \"\"\n",
    "    next_char = speech[1]\n",
    "    count = 0\n",
    "    for x in range(len(speech) - 2):\n",
    "        current_char = speech[x].lower()\n",
    "        if current_char == \"e\" and next_char == \" \":\n",
    "            count = count - 1\n",
    "        \n",
    "        if vowels.find(current_char) > -1:\n",
    "            count = count + 1\n",
    "\n",
    "        elif (current_char == 's' or current_char == 'd') and punct.find(next_char) > -1 and last_char == 'e':\n",
    "            count = count - 1\n",
    "        else:\n",
    "            pass\n",
    "        last_char = current_char\n",
    "        next_char = speech[x+2]\n",
    "    return count "
   ]
  },
  {
   "cell_type": "markdown",
   "id": "0050cfb1",
   "metadata": {},
   "source": [
    "### compute_flesch_index()\n",
    "Uses the equation given in the instructions to calculate the flesch index\n",
    "\n",
    "### compute_grade_level()\n",
    "Uses the equation given in the instructions to calculate the grade level\n",
    "\n",
    "### classify_article_readability()\n",
    "Uses the equation given in the instructions to calculate the article readability\n"
   ]
  },
  {
   "cell_type": "code",
   "execution_count": 6,
   "id": "00cef934",
   "metadata": {},
   "outputs": [],
   "source": [
    "def compute_flesch_index(syllables, words, sentences):\n",
    "    # print(\"flesch\", 206.835 - 1.015 * (words/sentences) - 84.6 * (syllables/words))\n",
    "    return 206.835 - (1.015 * (words/sentences)) - (84.6 * (syllables/words)) \n",
    "\n",
    "\n",
    "def compute_grade_level(syllables, words, sentences):\n",
    "    # print(\"grade\", 0.39 * (words/sentences) + 11.8 * (syllables/words) - 15.59)\n",
    "    return (0.39 * (words/sentences)) + (11.8 * (syllables/words)) - 15.59\n",
    "\n",
    "\n",
    "\n",
    "def classify_article_readability(flesch):\n",
    "    if flesch < 30.0:\n",
    "        return \"College graduate\"\n",
    "\n",
    "    elif flesch < 50.0:\n",
    "        return \"College\"\n",
    "\n",
    "    elif flesch < 60.0:\n",
    "        return \"10th to 12th Grade\" \n",
    "\n",
    "    elif flesch < 70.0:\n",
    "        return \"8th & 9th Grade\" \n",
    "\n",
    "    elif flesch < 80.0:\n",
    "        return \"7th Grade\" \n",
    "\n",
    "    elif flesch < 90.0:\n",
    "        return \"6th Grade\" \n",
    "\n",
    "    else:\n",
    "        return \"5th Grade\" \n"
   ]
  },
  {
   "cell_type": "markdown",
   "id": "d013b592",
   "metadata": {},
   "source": [
    "### first_print()\n",
    "    Prints the first expected output from the instructions"
   ]
  },
  {
   "cell_type": "code",
   "execution_count": 7,
   "id": "363a874f",
   "metadata": {},
   "outputs": [],
   "source": [
    "def first_print(data):\n",
    "    header_1 = \"President's Name\"\n",
    "    header_2 = \"Term\"\n",
    "    header_3 = \"Date of Speech\"\n",
    "    header_4 = \"Excerpt\"\n",
    "    print(f\"{header_1:25}{header_2:15}{header_3:22}{header_4:20}\")\n",
    "    for prez in data:\n",
    "        print(f\"{prez[0]:25}{prez[1]:15}{prez[2]:22}{prez[3]:20.50}\")"
   ]
  },
  {
   "cell_type": "code",
   "execution_count": 13,
   "id": "d0573b65",
   "metadata": {},
   "outputs": [
    {
     "name": "stdout",
     "output_type": "stream",
     "text": [
      "President's Name         Term           Date of Speech        Excerpt             \n",
      "Joseph R. Biden          2021-present   04/28/21 09:06 PM     The President. Thank you. Thank you. Thank you. Go\n",
      "Donald J. Trump          2017-2021      02/28/17 09:09 PM     Thank you very much. Mr. Speaker, Mr. Vice Preside\n",
      "Barack Obama             2013-2017      02/12/13 09:15 PM     Please, everybody, have a seat. Mr. Speaker, Mr. V\n",
      "George W. Bush           2005-2009      02/02/05 09:10 PM     Mr. Speaker, Vice President Cheney, Members of Con\n",
      "William J. Clinton       1997-2001      02/04/97 09:15 PM     Mr. Speaker, Mr. Vice President, Members of the 10\n",
      "George Bush              1989-1993      02/09/89 12:00 AM     Mr. Speaker, Mr. President, and distinguished Memb\n",
      "Ronald Reagan            1985-1989      02/06/85 09:05 PM     Mr. Speaker, Mr. President, distinguished Members \n",
      "Lyndon B. Johnson        1965-1969      01/04/65 09:04 PM     Mr. Speaker, Mr. President, Members of the Congres\n",
      "John F. Kennedy          1961-1963      01/30/61 12:30 PM     [As delivered in person before a joint session] Mr\n",
      "Dwight D. Eisenhower     1957-1961      01/10/57 12:00 AM     To the Congress of the United States: I appear bef\n",
      "Harry S Truman           1949-1953      01/05/49 01:00 PM     Mr. President, Mr. Speaker, Members of the Congres\n",
      "Franklin D. Roosevelt    1945           01/06/45 12:00 AM     Today, in pursuance of my Constitutional duty, I s\n",
      "Warren G. Harding        1921-1923      12/06/21 12:00 AM     MR. SPEAKER AND MEMBERS OF THE CONGRESS: It is a v\n",
      "Woodrow Wilson           1917-1921      12/04/17 12:00 AM     Gentlemen of the Congress: Eight months have elaps\n",
      "John Adams               1797-1801      11/22/97 12:00 AM     Gentlemen of the Senate and Gentlemen of the House\n",
      "George Washington        1793-1797      12/03/93 12:00 AM     Fellow-Citizens of the Senate and House of Represe\n",
      "\n",
      "\n",
      "\n",
      "President's Name      Term           Date of Speech      Excerpt                                              Flesch    Grade Level #   Grade Level\n",
      "Joseph R. Biden       2021-present   04/28/21 09:06 PM   The President. Thank you. Thank you. Thank you. Go    60.93         8          8th & 9th Grade\n",
      "Donald J. Trump       2017-2021      02/28/17 09:09 PM   Thank you very much. Mr. Speaker, Mr. Vice Preside    57.24         9          10th to 12th Grade\n",
      "Barack Obama          2013-2017      02/12/13 09:15 PM   Please, everybody, have a seat. Mr. Speaker, Mr. V    57.28         9          10th to 12th Grade\n",
      "George W. Bush        2005-2009      02/02/05 09:10 PM   Mr. Speaker, Vice President Cheney, Members of Con    48.48         11         College\n",
      "William J. Clinton    1997-2001      02/04/97 09:15 PM   Mr. Speaker, Mr. Vice President, Members of the 10    58.70         9          10th to 12th Grade\n",
      "George Bush           1989-1993      02/09/89 12:00 AM   Mr. Speaker, Mr. President, and distinguished Memb    60.92         8          8th & 9th Grade\n",
      "Ronald Reagan         1985-1989      02/06/85 09:05 PM   Mr. Speaker, Mr. President, distinguished Members     53.20         9          10th to 12th Grade\n",
      "Lyndon B. Johnson     1965-1969      01/04/65 09:04 PM   Mr. Speaker, Mr. President, Members of the Congres    59.54         8          10th to 12th Grade\n",
      "John F. Kennedy       1961-1963      01/30/61 12:30 PM   [As delivered in person before a joint session] Mr    39.74         13         College\n",
      "Dwight D. Eisenhower  1957-1961      01/10/57 12:00 AM   To the Congress of the United States: I appear bef    38.81         12         College\n",
      "Harry S Truman        1949-1953      01/05/49 01:00 PM   Mr. President, Mr. Speaker, Members of the Congres    47.02         11         College\n",
      "Franklin D. Roosevelt 1945           01/06/45 12:00 AM   Today, in pursuance of my Constitutional duty, I s    50.79         11         10th to 12th Grade\n",
      "Warren G. Harding     1921-1923      12/06/21 12:00 AM   MR. SPEAKER AND MEMBERS OF THE CONGRESS: It is a v    36.74         14         College\n",
      "Woodrow Wilson        1917-1921      12/04/17 12:00 AM   Gentlemen of the Congress: Eight months have elaps    55.20         11         10th to 12th Grade\n",
      "John Adams            1797-1801      11/22/97 12:00 AM   Gentlemen of the Senate and Gentlemen of the House    33.76         16         College\n",
      "George Washington     1793-1797      12/03/93 12:00 AM   Fellow-Citizens of the Senate and House of Represe    41.61         14         College\n"
     ]
    }
   ],
   "source": [
    "def main():\n",
    "    \"\"\"\n",
    "    The main driver of the program.\n",
    "    It uses the base link to The American Presidency Project\n",
    "    at UC Santa Barbara to extract SOU addresses\n",
    "    \"\"\"\n",
    "    url = \"https://www.presidency.ucsb.edu/\" \\\n",
    "          \"documents/presidential-documents-archive-guidebook/\" \\\n",
    "          \"annual-messages-congress-the-state-the-union\"\n",
    "    data_table = scrape_data(url)\n",
    "    first_print(data_table)\n",
    "    print(\"\\n\\n\")\n",
    "    head_1 = \"President's Name\"    \n",
    "    head_2 = \"Term\"    \n",
    "    head_3 = \"Date of Speech\"    \n",
    "    head_4 = \"Excerpt\"    \n",
    "    head_5 = \"Flesch\"    \n",
    "    head_6 = \"Grade Level #\"    \n",
    "    head_7 = \"Grade Level\"    \n",
    "    print(f\"{head_1:22}{head_2:15}{head_3:20}{head_4:53}{head_5:10}{head_6:16}{head_7}\")\n",
    "\n",
    "\n",
    "    for prez in data_table:\n",
    "        syllables = count_syllables(prez[3])\n",
    "        words = count_words(prez[3])\n",
    "        sentences = count_sentences(prez[3])\n",
    "        flesch = compute_flesch_index(syllables, words, sentences)\n",
    "        grade_level = compute_grade_level(syllables, words, sentences)\n",
    "        readability = classify_article_readability(flesch)\n",
    "        print(f\"{prez[0]:22}{prez[1]:15}{prez[2]:20}{prez[3]:0.50}{flesch:9.2f}{int(grade_level):^20}{readability:5}\")\n",
    "\n",
    "\n",
    "# call the main function to run the program\n",
    "main()"
   ]
  }
 ],
 "metadata": {
  "kernelspec": {
   "display_name": "Python 3 (ipykernel)",
   "language": "python",
   "name": "python3"
  },
  "language_info": {
   "codemirror_mode": {
    "name": "ipython",
    "version": 3
   },
   "file_extension": ".py",
   "mimetype": "text/x-python",
   "name": "python",
   "nbconvert_exporter": "python",
   "pygments_lexer": "ipython3",
   "version": "3.11.4"
  }
 },
 "nbformat": 4,
 "nbformat_minor": 5
}
