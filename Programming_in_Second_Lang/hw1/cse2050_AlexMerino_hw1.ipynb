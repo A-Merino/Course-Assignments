{
 "cells": [
  {
   "cell_type": "markdown",
   "id": "6546cbc0",
   "metadata": {},
   "source": [
    "# CSE 2050 Homework 1"
   ]
  },
  {
   "cell_type": "markdown",
   "id": "dbbd3139",
   "metadata": {},
   "source": [
    "**Name: Alex Merino** | Topic: Numbers, Text Processing, Lists and 1-D Loops"
   ]
  },
  {
   "cell_type": "markdown",
   "id": "be2a63eb",
   "metadata": {},
   "source": [
    "## Question 1"
   ]
  },
  {
   "cell_type": "code",
   "execution_count": 2,
   "id": "32dc2e3e",
   "metadata": {},
   "outputs": [
    {
     "name": "stdout",
     "output_type": "stream",
     "text": [
      "Radius of Cylinder 1: 10\n",
      "Radius of Cylinder 2: 10\n",
      "Height of Cylinder 1: 10\n",
      "Height of Cylinder 2: 10\n",
      "Height of Cone: 10\n",
      "The volume is 9424.78\n"
     ]
    }
   ],
   "source": [
    "import math\n",
    "\n",
    "radius_1 = float(input(\"Radius of Cylinder 1: \"))\n",
    "radius_2 = float(input(\"Radius of Cylinder 2: \"))\n",
    "height_1 = float(input(\"Height of Cylinder 1: \"))\n",
    "height_2 = float(input(\"Height of Cylinder 2: \"))\n",
    "height_3 = float(input(\"Height of Cone: \"))\n",
    "volume = 0.0\n",
    "\n",
    "volume_cyl1 = (radius_1**2)  * height_1 * math.pi\n",
    "volume_cyl2 = (radius_2**2) * height_2 * math.pi\n",
    "volume_cone = ((radius_1**2) + (radius_2**2) + (radius_2*radius_1)) * height_3 * math.pi / 3\n",
    "\n",
    "print(f\"The volume is {volume_cyl1 + volume_cyl2 + volume_cone:.2f}\")\n"
   ]
  },
  {
   "cell_type": "markdown",
   "id": "84bbad54",
   "metadata": {},
   "source": [
    "In this question I collected the dimensions for each cylinder and cone and used the formulas given to calculate a total volume. To complete the question, the math module was needed to be imported, so the value of pi could be used in the calculations of the cylinders and cone."
   ]
  },
  {
   "cell_type": "markdown",
   "id": "161888ff",
   "metadata": {},
   "source": [
    "## Question 2"
   ]
  },
  {
   "cell_type": "code",
   "execution_count": 3,
   "id": "994170b0",
   "metadata": {},
   "outputs": [
    {
     "name": "stdout",
     "output_type": "stream",
     "text": [
      "Student Name             Email Adress             \n",
      "Willena Shupe            wshupe2020@my.fit.edu    \n",
      "Jolanda Agin             jagin2019@my.fit.edu     \n",
      "Leta Stacker             lstacker2016@my.fit.edu  \n",
      "Leonora Oliverio         loliverio2019@my.fit.edu \n",
      "Birgit Stoudt            bstoudt2013@my.fit.edu   \n",
      "Aron Valtierra           avaltierra2014@my.fit.edu\n",
      "Vi Buschman              vbuschman2014@my.fit.edu \n",
      "Janee Barnwell           jbarnwell2018@my.fit.edu \n",
      "Agnus Flower             aflower2016@my.fit.edu   \n",
      "Byron Mccartney          bmccartney2012@my.fit.edu\n",
      "Victoria Crabill         vcrabill2014@my.fit.edu  \n",
      "Amy Swinton              aswinton2015@my.fit.edu  \n",
      "Arla Mohamed             amohamed2018@my.fit.edu  \n",
      "Bryon Vester             bvester2013@my.fit.edu   \n",
      "Lue Benway               lbenway2019@my.fit.edu   \n",
      "Mozelle Macauley         mmacauley2017@my.fit.edu \n",
      "Suzann Galindo           sgalindo2019@my.fit.edu  \n",
      "Delicia Barriere         dbarriere2020@my.fit.edu \n",
      "Marcella Uyehara         muyehara2015@my.fit.edu  \n",
      "Jane Curley              jcurley2013@my.fit.edu   \n"
     ]
    }
   ],
   "source": [
    "names = [\"Willena Shupe\", \"Jolanda Agin\", \"Leta Stacker\",\n",
    "\"Leonora Oliverio\", \"Birgit Stoudt\", \"Aron Valtierra\", \"Vi Buschman\",\n",
    "\"Janee Barnwell\", \"Agnus Flower\", \"Byron Mccartney\",\n",
    "\"Victoria Crabill\", \"Amy Swinton\", \"Arla Mohamed\", \"Bryon Vester\",\n",
    "\"Lue Benway\", \"Mozelle Macauley\", \"Suzann Galindo\",\n",
    "\"Delicia Barriere\", \"Marcella Uyehara\", \"Jane Curley\"]\n",
    "years = [2020, 2019, 2016, 2019, 2013, 2014, 2014, 2018, 2016, 2012, 2014, 2015, 2018, 2013, 2019, 2017, 2019, 2020, 2015, 2013]\n",
    "\n",
    "suffix = \"@my.fit.edu\"\n",
    "\n",
    "print(f\"{'Student Name':25}{'Email Adress':25}\")\n",
    "\n",
    "for x in range(len(names)):\n",
    "    print(f'{names[x]:25}{\"\".join((names[x][0].lower(), names[x].split()[1].lower(), str(years[x]), suffix)):25}')\n"
   ]
  },
  {
   "cell_type": "markdown",
   "id": "5c3b1728",
   "metadata": {},
   "source": [
    "Here, I was asked to use a list of names and years, to create FIT style emails for each name.\n",
    "* The first step was to create a suffix string to add to the end of each email\n",
    "* Then the header needed to be added, using print formatting\n",
    "* A for loop was then used to splice and mutilate each name into the correct format, with adding the year at the end\n",
    "\n",
    "The splicing was accomplished by:\n",
    "* Grabbing the first character from the name given using the substring function, and ensuring it is lower case\n",
    "* Using the .split() function to collect the full last name of the person and ensuring it is lower case\n",
    "* Inserting the year they joined FIT after by casting it as a string\n",
    "* Then adding the suffix to the rest\n",
    "* All four elements were combined by the .join() method with no delimiter"
   ]
  },
  {
   "cell_type": "markdown",
   "id": "ea024f0a",
   "metadata": {},
   "source": [
    "## Question 3"
   ]
  },
  {
   "cell_type": "markdown",
   "id": "3cd58f67",
   "metadata": {},
   "source": [
    "#### temperatures2 list"
   ]
  },
  {
   "cell_type": "code",
   "execution_count": 5,
   "id": "be2bb214",
   "metadata": {},
   "outputs": [
    {
     "name": "stdout",
     "output_type": "stream",
     "text": [
      "Quarter 1 [72, 32, 24, 61, 30, 42]\n",
      "Quarter 2 [51, 21, 56, 32, 39, 70]\n",
      "Quarter 3 [75, 54, 62, 49, 28, 54]\n",
      "Quarter 4 [39, 24, 31, 64, 72, 27]\n"
     ]
    }
   ],
   "source": [
    "temperatures2 = [72, 32, 24, 61, 30, 42, 51, 21, 56, 32, 39, 70, 75, 54, 62, 49, 28, 54, 39, 24, 31, 64, 72, 27]\n",
    "\n",
    "\n",
    "mod = len(temperatures2) / 4\n",
    "counter = 1\n",
    "quarter = []\n",
    "for i in range(len(temperatures2)):\n",
    "    quarter.append(temperatures2[i])\n",
    "    if i % mod == mod - 1:\n",
    "        print(f\"Quarter {counter} {quarter}\")\n",
    "        counter = counter + 1\n",
    "        quarter = []\n"
   ]
  },
  {
   "cell_type": "markdown",
   "id": "5b23bfa0",
   "metadata": {},
   "source": [
    "#### list2 list"
   ]
  },
  {
   "cell_type": "code",
   "execution_count": 8,
   "id": "92775e20",
   "metadata": {},
   "outputs": [
    {
     "name": "stdout",
     "output_type": "stream",
     "text": [
      "Quarter 1 [72, 74, 85]\n",
      "Quarter 2 [79, 64, 79]\n",
      "Quarter 3 [90, 82, 81]\n",
      "Quarter 4 [76, 92, 85]\n"
     ]
    }
   ],
   "source": [
    "list2 = [72, 74, 85, 79, 64, 79, 90, 82, 81, 76, 92, 85]\n",
    "\n",
    "mod = len(list2) / 4\n",
    "counter = 1\n",
    "quarter = []\n",
    "for i in range(len(list2)):\n",
    "    quarter.append(list2[i])\n",
    "    if i % mod == mod - 1:\n",
    "        print(f\"Quarter {counter} {quarter}\")\n",
    "        counter = counter + 1\n",
    "        quarter = []"
   ]
  },
  {
   "cell_type": "markdown",
   "id": "f6f36f17",
   "metadata": {},
   "source": [
    "#### list3 list"
   ]
  },
  {
   "cell_type": "code",
   "execution_count": 9,
   "id": "11ad0097",
   "metadata": {},
   "outputs": [
    {
     "name": "stdout",
     "output_type": "stream",
     "text": [
      "Quarter 1 [76, 66, 76, 75, 76, 73, 92, 74, 70, 92, 62, 67]\n",
      "Quarter 2 [64, 60, 95, 85, 63, 91, 86, 67, 86, 81, 59, 71]\n",
      "Quarter 3 [65, 79, 73, 86, 91, 70, 86, 57, 94, 66, 95, 57]\n",
      "Quarter 4 [87, 82, 95, 96, 78, 94, 78, 65, 62, 76, 59, 92]\n"
     ]
    }
   ],
   "source": [
    "list3 = [76, 66, 76, 75, 76, 73, 92, 74, 70, 92, 62, 67,\n",
    "64, 60, 95, 85, 63, 91, 86, 67, 86, 81, 59, 71, 65, 79, 73,\n",
    "86, 91, 70, 86, 57, 94, 66, 95, 57, 87, 82, 95, 96, 78, 94,\n",
    "78, 65, 62, 76, 59, 92]\n",
    "\n",
    "mod = len(list3) / 4\n",
    "counter = 1\n",
    "quarter = []\n",
    "for i in range(len(list3)):\n",
    "    quarter.append(list3[i])\n",
    "    if i % mod == mod - 1:\n",
    "        print(f\"Quarter {counter} {quarter}\")\n",
    "        counter = counter + 1\n",
    "        quarter = []"
   ]
  },
  {
   "cell_type": "markdown",
   "id": "5ff382f0",
   "metadata": {},
   "source": [
    "For this problem, the first thing that I thought was needed was a modulo for the list, to tell when a quarter of the list had passed. Then, following the question prompt, I used a single for loop to go through the list and print out a quarter of the list at a time. \n",
    "* Using an empty list at the start, I added the current number to the list\n",
    "* Each iteration checks if the current index is one quarter of the list\n",
    "\n",
    "The logic is that if, the modulation of the current index is equal to the mod minus one (since the 0 index would count if we set the equation to 0) to determine if a quarter of the list has passed.\n",
    "* Use print formatting to print the list and a header for it\n",
    "* set the list back to empty and continue iterating"
   ]
  },
  {
   "cell_type": "code",
   "execution_count": null,
   "id": "cb10a32a",
   "metadata": {},
   "outputs": [],
   "source": []
  }
 ],
 "metadata": {
  "kernelspec": {
   "display_name": "Python 3 (ipykernel)",
   "language": "python",
   "name": "python3"
  },
  "language_info": {
   "codemirror_mode": {
    "name": "ipython",
    "version": 3
   },
   "file_extension": ".py",
   "mimetype": "text/x-python",
   "name": "python",
   "nbconvert_exporter": "python",
   "pygments_lexer": "ipython3",
   "version": "3.11.4"
  }
 },
 "nbformat": 4,
 "nbformat_minor": 5
}
